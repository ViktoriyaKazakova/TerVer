{
 "cells": [
  {
   "cell_type": "code",
   "execution_count": 12,
   "metadata": {},
   "outputs": [],
   "source": [
    "import numpy as np\n",
    "import pandas as pd\n",
    "import matplotlib.pyplot as plt\n",
    "import warnings\n",
    "warnings.filterwarnings('ignore')\n",
    "from math import factorial"
   ]
  },
  {
   "cell_type": "code",
   "execution_count": 13,
   "metadata": {},
   "outputs": [],
   "source": [
    "def combinations(n, k):\n",
    "    return int(factorial(n) / (factorial(k) * factorial(n - k)))"
   ]
  },
  {
   "cell_type": "code",
   "execution_count": null,
   "metadata": {},
   "outputs": [],
   "source": []
  },
  {
   "cell_type": "markdown",
   "metadata": {},
   "source": [
    "1.Даны значения зарплат из выборки выпускников: 100, 80, 75, 77, 89, 33, 45, 25, 65, 17, 30, 24, 57, 55, 70, 75, 65, 84, 90, 150. Посчитать (желательно без использования статистических методов наподобие std, var, mean) среднее арифметическое, среднее квадратичное отклонение, смещенную и несмещенную оценки дисперсий для данной выборки."
   ]
  },
  {
   "cell_type": "code",
   "execution_count": 2,
   "metadata": {},
   "outputs": [],
   "source": [
    "a = np.array([100, 80, 75, 77, 89, 33, 45, 25, 65, 17, 30, 24, 57, 55, 70, 75, 65, 84, 90, 150])\n"
   ]
  },
  {
   "cell_type": "code",
   "execution_count": 3,
   "metadata": {},
   "outputs": [
    {
     "data": {
      "text/plain": [
       "65.3"
      ]
     },
     "execution_count": 3,
     "metadata": {},
     "output_type": "execute_result"
    }
   ],
   "source": [
    "#среднее арифметическое\n",
    "sr = a.sum()/len(a)\n",
    "sr"
   ]
  },
  {
   "cell_type": "code",
   "execution_count": 11,
   "metadata": {},
   "outputs": [
    {
     "data": {
      "text/plain": [
       "30.823854398825596"
      ]
     },
     "execution_count": 11,
     "metadata": {},
     "output_type": "execute_result"
    }
   ],
   "source": [
    "#среднее квадратичное отклонение\n",
    "std = np.sqrt(((a - sr)**2).sum() / (len(a)))\n",
    "std"
   ]
  },
  {
   "cell_type": "code",
   "execution_count": 7,
   "metadata": {},
   "outputs": [
    {
     "data": {
      "text/plain": [
       "950.11"
      ]
     },
     "execution_count": 7,
     "metadata": {},
     "output_type": "execute_result"
    }
   ],
   "source": [
    "#смещенная оценка дисперсии\n",
    "var = ((a - sr)**2).sum() / (len(a))\n",
    "var"
   ]
  },
  {
   "cell_type": "code",
   "execution_count": 9,
   "metadata": {},
   "outputs": [
    {
     "data": {
      "text/plain": [
       "1000.1157894736842"
      ]
     },
     "execution_count": 9,
     "metadata": {},
     "output_type": "execute_result"
    }
   ],
   "source": [
    "#несмещенная оценка дисперсии\n",
    "var_n = ((a - sr)**2).sum() / (len(a) - 1)\n",
    "var_n"
   ]
  },
  {
   "cell_type": "markdown",
   "metadata": {},
   "source": [
    "2.В первом ящике находится 8 мячей, из которых 5 - белые. Во втором ящике - 12 мячей, из которых 5 белых. Из первого ящика вытаскивают случайным образом два мяча, из второго - 4. Какова вероятность того, что 3 мяча белые?"
   ]
  },
  {
   "cell_type": "code",
   "execution_count": 14,
   "metadata": {},
   "outputs": [
    {
     "data": {
      "text/plain": [
       "0.3686868686868687"
      ]
     },
     "execution_count": 14,
     "metadata": {},
     "output_type": "execute_result"
    }
   ],
   "source": [
    "P1 = (combinations(5, 2)/combinations(8, 2))*(combinations(5, 1)*combinations(7, 3)/combinations(12, 4))\n",
    "P2 = (combinations(5, 1) * combinations(3, 1)/combinations(8, 2))*(combinations(5, 2)*combinations(7, 2)/combinations(12, 4))\n",
    "P3 = (combinations(3, 2)/combinations(8, 2))*(combinations(5, 3)*combinations(7, 1)/combinations(12, 4))\n",
    "white_3 = P1 + P2 + P3\n",
    "white_3"
   ]
  },
  {
   "cell_type": "markdown",
   "metadata": {},
   "source": [
    "3. На соревновании по биатлону один из трех спортсменов стреляет и попадает в мишень. Вероятность попадания для первого спортсмена равна 0.9, для второго — 0.8, для третьего — 0.6. Найти вероятность того, что выстрел произведен: a). первым спортсменом б). вторым спортсменом в). третьим спортсменом."
   ]
  },
  {
   "cell_type": "code",
   "execution_count": 15,
   "metadata": {},
   "outputs": [
    {
     "data": {
      "text/plain": [
       "(0.3913043478260869, 0.34782608695652173, 0.26086956521739124)"
      ]
     },
     "execution_count": 15,
     "metadata": {},
     "output_type": "execute_result"
    }
   ],
   "source": [
    "P1 = 0.9\n",
    "P2 = 0.8\n",
    "P3 = 0.6\n",
    "PA = (1/3) * (P1 + P2 + P3)\n",
    "\n",
    "PA1 = (1/3) * P1 / PA #выстрел произведен 1 спортсменом\n",
    "PA2 = (1/3) * P2 / PA #выстрел произведен 2 спортсменом\n",
    "PA3 = (1/3) * P3 / PA #выстрел произведен 3 спортсменом\n",
    "PA1, PA2, PA3"
   ]
  },
  {
   "cell_type": "markdown",
   "metadata": {},
   "source": [
    "4. В университет на факультеты A и B поступило равное количество студентов, а на факультет C студентов поступило столько же, сколько на A и B вместе. Вероятность того, что студент факультета A сдаст первую сессию, равна 0.8. Для студента факультета B эта вероятность равна 0.7, а для студента факультета C - 0.9. Студент сдал первую сессию. Какова вероятность, что он учится: a). на факультете A б). на факультете B в). на факультете C?"
   ]
  },
  {
   "cell_type": "code",
   "execution_count": 2,
   "metadata": {},
   "outputs": [
    {
     "name": "stdout",
     "output_type": "stream",
     "text": [
      "0.2424242424242424 0.21212121212121207 0.5454545454545454\n"
     ]
    }
   ],
   "source": [
    "A_sd = B_sd = 1/3\n",
    "C_sd = 2/3\n",
    "\n",
    "P_a = 0.8\n",
    "P_b = 0.7\n",
    "P_c = 0.9\n",
    "\n",
    "PS = (A_sd * P_a) + (B_sd * P_b) + (C_sd * P_c) #вероятность успешной сдачи экзамена \n",
    "\n",
    "P1 = (A_sd * P_a) / PS #сдал студент с факультета А\n",
    "P2 = (B_sd * P_b) / PS #сдал студент с факультета В\n",
    "P3 = (C_sd * P_c) / PS #сдал студент с факультета С\n",
    "print (P1, P2, P3)"
   ]
  },
  {
   "cell_type": "markdown",
   "metadata": {},
   "source": [
    "5. Устройство состоит из трех деталей. Для первой детали вероятность выйти из строя в первый месяц равна 0.1, для второй - 0.2, для третьей - 0.25. Какова вероятность того, что в первый месяц выйдут из строя: а). все детали б). только две детали в). хотя бы одна деталь г). от одной до двух деталей?"
   ]
  },
  {
   "cell_type": "code",
   "execution_count": 3,
   "metadata": {},
   "outputs": [
    {
     "name": "stdout",
     "output_type": "stream",
     "text": [
      "0.005000000000000001 0.08000000000000002 0.45999999999999996 0.45499999999999996\n"
     ]
    }
   ],
   "source": [
    "P1 = 0.1\n",
    "P2 = 0.2\n",
    "P3 = 0.25\n",
    "\n",
    "vse = P1*P2*P3 #вероятность что в первый месяц из строя выйдут все детали\n",
    "det_2 = P1*P2*(1 - P3) + P1*(1 - P2)*P3 + (1 - P1)*P2*P3 #только 2 детали\n",
    "det_1 = 1 - (1 - P1)*(1 - P2)*(1 - P3) # хотя бы 1 деталь\n",
    "det_3 = 1 - (1 - P1)*(1 - P2)*(1 - P3) - P1*P2*P3 # от 1 до 2 деталей\n",
    "print(vse, det_2, det_1, det_3)"
   ]
  },
  {
   "cell_type": "code",
   "execution_count": null,
   "metadata": {},
   "outputs": [],
   "source": []
  }
 ],
 "metadata": {
  "kernelspec": {
   "display_name": "Python 3",
   "language": "python",
   "name": "python3"
  },
  "language_info": {
   "codemirror_mode": {
    "name": "ipython",
    "version": 3
   },
   "file_extension": ".py",
   "mimetype": "text/x-python",
   "name": "python",
   "nbconvert_exporter": "python",
   "pygments_lexer": "ipython3",
   "version": "3.7.1"
  }
 },
 "nbformat": 4,
 "nbformat_minor": 2
}

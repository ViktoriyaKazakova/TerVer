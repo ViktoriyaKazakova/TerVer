{
 "cells": [
  {
   "cell_type": "code",
   "execution_count": 1,
   "metadata": {},
   "outputs": [],
   "source": [
    "import numpy as np\n"
   ]
  },
  {
   "cell_type": "markdown",
   "metadata": {},
   "source": [
    "Даны значения величины заработной платы заемщиков банка (zp) и значения их поведенческого кредитного скоринга (ks): \n",
    "\n",
    "zp = [35, 45, 190, 200, 40, 70, 54, 150, 120, 110], ks = [401, 574, 874, 919, 459, 739, 653, 902, 746, 832]. \n",
    "\n",
    "Используя математические операции, посчитать коэффициенты линейной регрессии, приняв за X заработную плату (то есть, zp - признак), а за y - значения скорингового балла (то есть, ks - целевая переменная). Произвести расчет как с использованием intercept, так и без."
   ]
  },
  {
   "cell_type": "code",
   "execution_count": 2,
   "metadata": {},
   "outputs": [],
   "source": [
    "zp = np.array([35, 45, 190, 200, 40, 70, 54, 150, 120, 110])\n",
    "ks = np.array([401, 574, 874, 919, 459, 739, 653, 902, 746, 832])"
   ]
  },
  {
   "cell_type": "code",
   "execution_count": 3,
   "metadata": {},
   "outputs": [],
   "source": [
    "# intercept\n",
    "b = ((zp*ks).mean() - zp.mean()*ks.mean()) / ((zp**2).mean() - zp.mean()**2)\n",
    "a = ks.mean() - b*zp.mean() # intercept\n",
    "r = b * zp.std() / ks.std()\n",
    "R2 = r**2"
   ]
  },
  {
   "cell_type": "code",
   "execution_count": 4,
   "metadata": {},
   "outputs": [
    {
     "name": "stdout",
     "output_type": "stream",
     "text": [
      "a = 444.1773573243596\n",
      "b = 2.620538882402765\n",
      "r = 0.8874900920739162\n",
      "R2 = 0.7876386635293682\n"
     ]
    }
   ],
   "source": [
    "print(f'a = {a}')\n",
    "print(f'b = {b}')\n",
    "print(f'r = {r}')\n",
    "print(f'R2 = {R2}')"
   ]
  },
  {
   "cell_type": "code",
   "execution_count": 5,
   "metadata": {},
   "outputs": [
    {
     "name": "stdout",
     "output_type": "stream",
     "text": [
      "b = [[5.88982042]]\n"
     ]
    }
   ],
   "source": [
    "# без intercept\n",
    "y = ks.reshape((10,1))\n",
    "x = zp.reshape((10,1))\n",
    "b = np.linalg.inv(x.T @ x) @ x.T @ y\n",
    "print(f'b = {b}')"
   ]
  },
  {
   "cell_type": "markdown",
   "metadata": {},
   "source": [
    "Посчитать коэффициент линейной регрессии при заработной плате (zp), используя градиентный спуск (без intercept)."
   ]
  },
  {
   "cell_type": "code",
   "execution_count": 13,
   "metadata": {},
   "outputs": [
    {
     "name": "stdout",
     "output_type": "stream",
     "text": [
      "B1 = 1.1347302 MSE = 368017.9491755833\n",
      "B1 = 5.872024146706 MSE = 56521.22156616817\n",
      "B1 = 5.8897538162759355 MSE = 56516.858476833426\n",
      "B1 = 5.889820170862877 MSE = 56516.85841572027\n",
      "B1 = 5.889820419199778 MSE = 56516.8584157194\n",
      "B1 = 5.8898204201291975 MSE = 56516.8584157194\n",
      "B1 = 5.889820420132673 MSE = 56516.85841571943\n",
      "B1 = 5.889820420132673 MSE = 56516.85841571943\n"
     ]
    }
   ],
   "source": [
    "alpha = 1e-6\n",
    "X = zp\n",
    "Y = ks\n",
    "n = len(zp) \n",
    "\n",
    "B1 = 1\n",
    "\n",
    "def mse_(B1,Y=Y, X=X, n=n):\n",
    "    return np.sum((B1*X-Y)**2)/n\n",
    "\n",
    "\n",
    "for i in range(1500):\n",
    "    B1 -= alpha*(2/n)*np.sum((B1*X-Y)*X)\n",
    "    if i%200 == 0:\n",
    "        print(f'B1 = {B1} MSE = {mse_(B1)}')"
   ]
  },
  {
   "cell_type": "markdown",
   "metadata": {},
   "source": [
    "В каких случаях для вычисления доверительных интервалов и проверки статистических гипотез используется таблица значений функции Лапласа, а в каких - таблица критических точек распределения Стьюдента?"
   ]
  },
  {
   "cell_type": "markdown",
   "metadata": {},
   "source": [
    "Таблица значений функции Лапласа используется для известной дисперсии. Таблица критических точек распределения Стьюдента - используется, когда дисперсия неизвестна и используется расчётное значение"
   ]
  },
  {
   "cell_type": "markdown",
   "metadata": {},
   "source": [
    " Произвести вычисления как в пункте 2, но с вычислением intercept. Учесть, что изменение коэффициентов должно производиться на каждом шаге одновременно (то есть изменение одного коэффициента не должно влиять на изменение другого во время одной итерации)."
   ]
  },
  {
   "cell_type": "code",
   "execution_count": 12,
   "metadata": {},
   "outputs": [],
   "source": [
    "# вроде как последнее задание под звездочкой, не разобралась как его делать"
   ]
  },
  {
   "cell_type": "code",
   "execution_count": null,
   "metadata": {},
   "outputs": [],
   "source": []
  }
 ],
 "metadata": {
  "kernelspec": {
   "display_name": "Python 3",
   "language": "python",
   "name": "python3"
  },
  "language_info": {
   "codemirror_mode": {
    "name": "ipython",
    "version": 3
   },
   "file_extension": ".py",
   "mimetype": "text/x-python",
   "name": "python",
   "nbconvert_exporter": "python",
   "pygments_lexer": "ipython3",
   "version": "3.7.1"
  }
 },
 "nbformat": 4,
 "nbformat_minor": 2
}
